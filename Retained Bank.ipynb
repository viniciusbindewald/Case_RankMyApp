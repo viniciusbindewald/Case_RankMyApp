{
 "cells": [
  {
   "cell_type": "code",
   "execution_count": 47,
   "metadata": {},
   "outputs": [],
   "source": [
    "import pandas as pd\n",
    "import numpy as np"
   ]
  },
  {
   "cell_type": "code",
   "execution_count": 49,
   "metadata": {},
   "outputs": [],
   "source": [
    "df = pd.read_csv('Retained_Bank.csv')"
   ]
  },
  {
   "cell_type": "code",
   "execution_count": 50,
   "metadata": {},
   "outputs": [
    {
     "data": {
      "text/html": [
       "<div>\n",
       "<style scoped>\n",
       "    .dataframe tbody tr th:only-of-type {\n",
       "        vertical-align: middle;\n",
       "    }\n",
       "\n",
       "    .dataframe tbody tr th {\n",
       "        vertical-align: top;\n",
       "    }\n",
       "\n",
       "    .dataframe thead th {\n",
       "        text-align: right;\n",
       "    }\n",
       "</style>\n",
       "<table border=\"1\" class=\"dataframe\">\n",
       "  <thead>\n",
       "    <tr style=\"text-align: right;\">\n",
       "      <th></th>\n",
       "      <th>Date</th>\n",
       "      <th>Package Name</th>\n",
       "      <th>Acquisition Channel</th>\n",
       "      <th>Store Listing Visitors</th>\n",
       "      <th>Installers</th>\n",
       "      <th>Visitor-to-Installer conversion rate</th>\n",
       "      <th>Installers retained for 1 day</th>\n",
       "      <th>Installer-to-1 day retention rate</th>\n",
       "      <th>Installers retained for 7 days</th>\n",
       "      <th>Installer-to-7 days retention rate</th>\n",
       "      <th>Installers retained for 15 days</th>\n",
       "      <th>Installer-to-15 days retention rate</th>\n",
       "      <th>Installers retained for 30 days</th>\n",
       "      <th>Installer-to-30 days retention rate</th>\n",
       "    </tr>\n",
       "  </thead>\n",
       "  <tbody>\n",
       "    <tr>\n",
       "      <th>0</th>\n",
       "      <td>1/8/2019</td>\n",
       "      <td>B4 Bank</td>\n",
       "      <td>Organic</td>\n",
       "      <td>1628</td>\n",
       "      <td>414</td>\n",
       "      <td>0.254</td>\n",
       "      <td>359</td>\n",
       "      <td>0.867</td>\n",
       "      <td>344</td>\n",
       "      <td>0.831</td>\n",
       "      <td>335</td>\n",
       "      <td>0.809</td>\n",
       "      <td>330</td>\n",
       "      <td>0.797</td>\n",
       "    </tr>\n",
       "    <tr>\n",
       "      <th>1</th>\n",
       "      <td>1/8/2019</td>\n",
       "      <td>B4 Bank</td>\n",
       "      <td>Third-party referrers</td>\n",
       "      <td>514</td>\n",
       "      <td>46</td>\n",
       "      <td>0.089</td>\n",
       "      <td>38</td>\n",
       "      <td>0.826</td>\n",
       "      <td>35</td>\n",
       "      <td>0.761</td>\n",
       "      <td>32</td>\n",
       "      <td>0.696</td>\n",
       "      <td>30</td>\n",
       "      <td>0.652</td>\n",
       "    </tr>\n",
       "    <tr>\n",
       "      <th>2</th>\n",
       "      <td>1/8/2019</td>\n",
       "      <td>B4 Bank</td>\n",
       "      <td>Other</td>\n",
       "      <td>113</td>\n",
       "      <td>23</td>\n",
       "      <td>0.204</td>\n",
       "      <td>17</td>\n",
       "      <td>0.739</td>\n",
       "      <td>17</td>\n",
       "      <td>0.739</td>\n",
       "      <td>14</td>\n",
       "      <td>0.609</td>\n",
       "      <td>13</td>\n",
       "      <td>0.565</td>\n",
       "    </tr>\n",
       "    <tr>\n",
       "      <th>3</th>\n",
       "      <td>2/8/2019</td>\n",
       "      <td>B4 Bank</td>\n",
       "      <td>Organic</td>\n",
       "      <td>1610</td>\n",
       "      <td>407</td>\n",
       "      <td>0.253</td>\n",
       "      <td>354</td>\n",
       "      <td>0.870</td>\n",
       "      <td>338</td>\n",
       "      <td>0.830</td>\n",
       "      <td>330</td>\n",
       "      <td>0.811</td>\n",
       "      <td>322</td>\n",
       "      <td>0.791</td>\n",
       "    </tr>\n",
       "    <tr>\n",
       "      <th>4</th>\n",
       "      <td>2/8/2019</td>\n",
       "      <td>B4 Bank</td>\n",
       "      <td>Tracked channels (UTM)</td>\n",
       "      <td>55</td>\n",
       "      <td>10</td>\n",
       "      <td>0.182</td>\n",
       "      <td>10</td>\n",
       "      <td>1.000</td>\n",
       "      <td>10</td>\n",
       "      <td>1.000</td>\n",
       "      <td>9</td>\n",
       "      <td>0.900</td>\n",
       "      <td>8</td>\n",
       "      <td>0.800</td>\n",
       "    </tr>\n",
       "  </tbody>\n",
       "</table>\n",
       "</div>"
      ],
      "text/plain": [
       "       Date Package Name     Acquisition Channel  Store Listing Visitors  \\\n",
       "0  1/8/2019      B4 Bank                 Organic                    1628   \n",
       "1  1/8/2019      B4 Bank   Third-party referrers                     514   \n",
       "2  1/8/2019      B4 Bank                   Other                     113   \n",
       "3  2/8/2019      B4 Bank                 Organic                    1610   \n",
       "4  2/8/2019      B4 Bank  Tracked channels (UTM)                      55   \n",
       "\n",
       "   Installers  Visitor-to-Installer conversion rate  \\\n",
       "0         414                                 0.254   \n",
       "1          46                                 0.089   \n",
       "2          23                                 0.204   \n",
       "3         407                                 0.253   \n",
       "4          10                                 0.182   \n",
       "\n",
       "   Installers retained for 1 day  Installer-to-1 day retention rate  \\\n",
       "0                            359                              0.867   \n",
       "1                             38                              0.826   \n",
       "2                             17                              0.739   \n",
       "3                            354                              0.870   \n",
       "4                             10                              1.000   \n",
       "\n",
       "   Installers retained for 7 days  Installer-to-7 days retention rate  \\\n",
       "0                             344                               0.831   \n",
       "1                              35                               0.761   \n",
       "2                              17                               0.739   \n",
       "3                             338                               0.830   \n",
       "4                              10                               1.000   \n",
       "\n",
       "   Installers retained for 15 days  Installer-to-15 days retention rate  \\\n",
       "0                              335                                0.809   \n",
       "1                               32                                0.696   \n",
       "2                               14                                0.609   \n",
       "3                              330                                0.811   \n",
       "4                                9                                0.900   \n",
       "\n",
       "   Installers retained for 30 days  Installer-to-30 days retention rate  \n",
       "0                              330                                0.797  \n",
       "1                               30                                0.652  \n",
       "2                               13                                0.565  \n",
       "3                              322                                0.791  \n",
       "4                                8                                0.800  "
      ]
     },
     "execution_count": 50,
     "metadata": {},
     "output_type": "execute_result"
    }
   ],
   "source": [
    "df.head()"
   ]
  },
  {
   "cell_type": "code",
   "execution_count": 51,
   "metadata": {},
   "outputs": [],
   "source": [
    "#Criação de um novo Dataframe cujo o canal de aquisição é o \"Organic\" \n",
    "df_organic = df.loc[df['Acquisition Channel']=='Organic']"
   ]
  },
  {
   "cell_type": "code",
   "execution_count": 52,
   "metadata": {},
   "outputs": [
    {
     "data": {
      "text/html": [
       "<div>\n",
       "<style scoped>\n",
       "    .dataframe tbody tr th:only-of-type {\n",
       "        vertical-align: middle;\n",
       "    }\n",
       "\n",
       "    .dataframe tbody tr th {\n",
       "        vertical-align: top;\n",
       "    }\n",
       "\n",
       "    .dataframe thead th {\n",
       "        text-align: right;\n",
       "    }\n",
       "</style>\n",
       "<table border=\"1\" class=\"dataframe\">\n",
       "  <thead>\n",
       "    <tr style=\"text-align: right;\">\n",
       "      <th></th>\n",
       "      <th>Date</th>\n",
       "      <th>Package Name</th>\n",
       "      <th>Acquisition Channel</th>\n",
       "      <th>Store Listing Visitors</th>\n",
       "      <th>Installers</th>\n",
       "      <th>Visitor-to-Installer conversion rate</th>\n",
       "      <th>Installers retained for 1 day</th>\n",
       "      <th>Installer-to-1 day retention rate</th>\n",
       "      <th>Installers retained for 7 days</th>\n",
       "      <th>Installer-to-7 days retention rate</th>\n",
       "      <th>Installers retained for 15 days</th>\n",
       "      <th>Installer-to-15 days retention rate</th>\n",
       "      <th>Installers retained for 30 days</th>\n",
       "      <th>Installer-to-30 days retention rate</th>\n",
       "    </tr>\n",
       "  </thead>\n",
       "  <tbody>\n",
       "    <tr>\n",
       "      <th>0</th>\n",
       "      <td>1/8/2019</td>\n",
       "      <td>B4 Bank</td>\n",
       "      <td>Organic</td>\n",
       "      <td>1628</td>\n",
       "      <td>414</td>\n",
       "      <td>0.254</td>\n",
       "      <td>359</td>\n",
       "      <td>0.867</td>\n",
       "      <td>344</td>\n",
       "      <td>0.831</td>\n",
       "      <td>335</td>\n",
       "      <td>0.809</td>\n",
       "      <td>330</td>\n",
       "      <td>0.797</td>\n",
       "    </tr>\n",
       "    <tr>\n",
       "      <th>3</th>\n",
       "      <td>2/8/2019</td>\n",
       "      <td>B4 Bank</td>\n",
       "      <td>Organic</td>\n",
       "      <td>1610</td>\n",
       "      <td>407</td>\n",
       "      <td>0.253</td>\n",
       "      <td>354</td>\n",
       "      <td>0.870</td>\n",
       "      <td>338</td>\n",
       "      <td>0.830</td>\n",
       "      <td>330</td>\n",
       "      <td>0.811</td>\n",
       "      <td>322</td>\n",
       "      <td>0.791</td>\n",
       "    </tr>\n",
       "    <tr>\n",
       "      <th>7</th>\n",
       "      <td>3/8/2019</td>\n",
       "      <td>B4 Bank</td>\n",
       "      <td>Organic</td>\n",
       "      <td>1725</td>\n",
       "      <td>401</td>\n",
       "      <td>0.232</td>\n",
       "      <td>360</td>\n",
       "      <td>0.898</td>\n",
       "      <td>348</td>\n",
       "      <td>0.868</td>\n",
       "      <td>348</td>\n",
       "      <td>0.868</td>\n",
       "      <td>340</td>\n",
       "      <td>0.848</td>\n",
       "    </tr>\n",
       "    <tr>\n",
       "      <th>11</th>\n",
       "      <td>4/8/2019</td>\n",
       "      <td>B4 Bank</td>\n",
       "      <td>Organic</td>\n",
       "      <td>1579</td>\n",
       "      <td>410</td>\n",
       "      <td>0.260</td>\n",
       "      <td>365</td>\n",
       "      <td>0.890</td>\n",
       "      <td>350</td>\n",
       "      <td>0.854</td>\n",
       "      <td>341</td>\n",
       "      <td>0.832</td>\n",
       "      <td>330</td>\n",
       "      <td>0.805</td>\n",
       "    </tr>\n",
       "    <tr>\n",
       "      <th>15</th>\n",
       "      <td>5/8/2019</td>\n",
       "      <td>B4 Bank</td>\n",
       "      <td>Organic</td>\n",
       "      <td>1488</td>\n",
       "      <td>374</td>\n",
       "      <td>0.251</td>\n",
       "      <td>334</td>\n",
       "      <td>0.893</td>\n",
       "      <td>323</td>\n",
       "      <td>0.864</td>\n",
       "      <td>317</td>\n",
       "      <td>0.848</td>\n",
       "      <td>303</td>\n",
       "      <td>0.810</td>\n",
       "    </tr>\n",
       "  </tbody>\n",
       "</table>\n",
       "</div>"
      ],
      "text/plain": [
       "        Date Package Name Acquisition Channel  Store Listing Visitors  \\\n",
       "0   1/8/2019      B4 Bank             Organic                    1628   \n",
       "3   2/8/2019      B4 Bank             Organic                    1610   \n",
       "7   3/8/2019      B4 Bank             Organic                    1725   \n",
       "11  4/8/2019      B4 Bank             Organic                    1579   \n",
       "15  5/8/2019      B4 Bank             Organic                    1488   \n",
       "\n",
       "    Installers  Visitor-to-Installer conversion rate  \\\n",
       "0          414                                 0.254   \n",
       "3          407                                 0.253   \n",
       "7          401                                 0.232   \n",
       "11         410                                 0.260   \n",
       "15         374                                 0.251   \n",
       "\n",
       "    Installers retained for 1 day  Installer-to-1 day retention rate  \\\n",
       "0                             359                              0.867   \n",
       "3                             354                              0.870   \n",
       "7                             360                              0.898   \n",
       "11                            365                              0.890   \n",
       "15                            334                              0.893   \n",
       "\n",
       "    Installers retained for 7 days  Installer-to-7 days retention rate  \\\n",
       "0                              344                               0.831   \n",
       "3                              338                               0.830   \n",
       "7                              348                               0.868   \n",
       "11                             350                               0.854   \n",
       "15                             323                               0.864   \n",
       "\n",
       "    Installers retained for 15 days  Installer-to-15 days retention rate  \\\n",
       "0                               335                                0.809   \n",
       "3                               330                                0.811   \n",
       "7                               348                                0.868   \n",
       "11                              341                                0.832   \n",
       "15                              317                                0.848   \n",
       "\n",
       "    Installers retained for 30 days  Installer-to-30 days retention rate  \n",
       "0                               330                                0.797  \n",
       "3                               322                                0.791  \n",
       "7                               340                                0.848  \n",
       "11                              330                                0.805  \n",
       "15                              303                                0.810  "
      ]
     },
     "execution_count": 52,
     "metadata": {},
     "output_type": "execute_result"
    }
   ],
   "source": [
    "df_organic.head()"
   ]
  },
  {
   "cell_type": "markdown",
   "metadata": {},
   "source": [
    "### Criação de um novo Dataframe, a partir do 'df_organic', apenas com as colunas que serão utilizadas para o modelo de Machine Learning\n",
    "\n",
    "Este modelo utilizará as colunas \"Store Listing Visitors\" e \"Installers\" para, baseado nestes dados, prever quantas instalações ficarão retidas por 15 dias (\"Installers retained for 15 days\")"
   ]
  },
  {
   "cell_type": "code",
   "execution_count": 53,
   "metadata": {},
   "outputs": [],
   "source": [
    "#Criação de um novo Dataframe (df2), a partir do 'df_organic', apenas com as colunas que serão utilizadas para o \n",
    "#modelo de Machine Learning\n",
    "\n",
    "df2 = df_organic[['Store Listing Visitors', 'Installers', 'Installers retained for 15 days']]"
   ]
  },
  {
   "cell_type": "code",
   "execution_count": 54,
   "metadata": {},
   "outputs": [],
   "source": [
    "df2.reset_index(inplace=True)"
   ]
  },
  {
   "cell_type": "code",
   "execution_count": 55,
   "metadata": {},
   "outputs": [
    {
     "name": "stderr",
     "output_type": "stream",
     "text": [
      "/home/vinicius/anaconda3/lib/python3.7/site-packages/pandas/core/frame.py:3997: SettingWithCopyWarning: \n",
      "A value is trying to be set on a copy of a slice from a DataFrame\n",
      "\n",
      "See the caveats in the documentation: https://pandas.pydata.org/pandas-docs/stable/user_guide/indexing.html#returning-a-view-versus-a-copy\n",
      "  errors=errors,\n"
     ]
    }
   ],
   "source": [
    "df2.drop('index',axis=1, inplace=True)"
   ]
  },
  {
   "cell_type": "code",
   "execution_count": 56,
   "metadata": {},
   "outputs": [
    {
     "data": {
      "text/html": [
       "<div>\n",
       "<style scoped>\n",
       "    .dataframe tbody tr th:only-of-type {\n",
       "        vertical-align: middle;\n",
       "    }\n",
       "\n",
       "    .dataframe tbody tr th {\n",
       "        vertical-align: top;\n",
       "    }\n",
       "\n",
       "    .dataframe thead th {\n",
       "        text-align: right;\n",
       "    }\n",
       "</style>\n",
       "<table border=\"1\" class=\"dataframe\">\n",
       "  <thead>\n",
       "    <tr style=\"text-align: right;\">\n",
       "      <th></th>\n",
       "      <th>Store Listing Visitors</th>\n",
       "      <th>Installers</th>\n",
       "      <th>Installers retained for 15 days</th>\n",
       "    </tr>\n",
       "  </thead>\n",
       "  <tbody>\n",
       "    <tr>\n",
       "      <th>0</th>\n",
       "      <td>1628</td>\n",
       "      <td>414</td>\n",
       "      <td>335</td>\n",
       "    </tr>\n",
       "    <tr>\n",
       "      <th>1</th>\n",
       "      <td>1610</td>\n",
       "      <td>407</td>\n",
       "      <td>330</td>\n",
       "    </tr>\n",
       "    <tr>\n",
       "      <th>2</th>\n",
       "      <td>1725</td>\n",
       "      <td>401</td>\n",
       "      <td>348</td>\n",
       "    </tr>\n",
       "    <tr>\n",
       "      <th>3</th>\n",
       "      <td>1579</td>\n",
       "      <td>410</td>\n",
       "      <td>341</td>\n",
       "    </tr>\n",
       "    <tr>\n",
       "      <th>4</th>\n",
       "      <td>1488</td>\n",
       "      <td>374</td>\n",
       "      <td>317</td>\n",
       "    </tr>\n",
       "  </tbody>\n",
       "</table>\n",
       "</div>"
      ],
      "text/plain": [
       "   Store Listing Visitors  Installers  Installers retained for 15 days\n",
       "0                    1628         414                              335\n",
       "1                    1610         407                              330\n",
       "2                    1725         401                              348\n",
       "3                    1579         410                              341\n",
       "4                    1488         374                              317"
      ]
     },
     "execution_count": 56,
     "metadata": {},
     "output_type": "execute_result"
    }
   ],
   "source": [
    "df2.head()"
   ]
  },
  {
   "cell_type": "code",
   "execution_count": 57,
   "metadata": {},
   "outputs": [],
   "source": [
    "#Separando df2 em colunas para treinamento do modelo (df_train) e variável dependente (df_target)\n",
    "\n",
    "df_train = df2[['Store Listing Visitors', 'Installers']]\n",
    "df_target = df2['Installers retained for 15 days']"
   ]
  },
  {
   "cell_type": "markdown",
   "metadata": {},
   "source": [
    "## Padronização dos dados"
   ]
  },
  {
   "cell_type": "code",
   "execution_count": 58,
   "metadata": {},
   "outputs": [],
   "source": [
    "from sklearn.preprocessing import StandardScaler"
   ]
  },
  {
   "cell_type": "code",
   "execution_count": 59,
   "metadata": {},
   "outputs": [],
   "source": [
    "#Padronizando os dados..\n",
    "#Neste caso, os dados utilizados para o treinamento serão colocados todos em um escala variando de -1 até 1, com\n",
    "#média igual a zero.\n",
    "\n",
    "scaler = StandardScaler()\n",
    "df_train = scaler.fit_transform(df_train)"
   ]
  },
  {
   "cell_type": "markdown",
   "metadata": {},
   "source": [
    "## Treinamento do modelo de Machine Learning"
   ]
  },
  {
   "cell_type": "code",
   "execution_count": 60,
   "metadata": {},
   "outputs": [],
   "source": [
    "from sklearn.model_selection import train_test_split"
   ]
  },
  {
   "cell_type": "code",
   "execution_count": 61,
   "metadata": {},
   "outputs": [],
   "source": [
    "#Separando df_train em conjuntos de treinamento e teste\n",
    "X_train, X_test, y_train, y_test = train_test_split(df_train, df_target, test_size=0.33, random_state=42)"
   ]
  },
  {
   "cell_type": "code",
   "execution_count": 62,
   "metadata": {},
   "outputs": [],
   "source": [
    "#Importando o modelo de regressão linear\n",
    "from sklearn.linear_model import LinearRegression"
   ]
  },
  {
   "cell_type": "code",
   "execution_count": 63,
   "metadata": {},
   "outputs": [],
   "source": [
    "#Treinando o modelo...\n",
    "reg = LinearRegression().fit(X_train, y_train)"
   ]
  },
  {
   "cell_type": "code",
   "execution_count": 64,
   "metadata": {},
   "outputs": [],
   "source": [
    "#Fazendo a previsão...\n",
    "y_pred_target = reg.predict(X_test)"
   ]
  },
  {
   "cell_type": "code",
   "execution_count": 65,
   "metadata": {},
   "outputs": [
    {
     "name": "stdout",
     "output_type": "stream",
     "text": [
      "MAE  (Erro Absoluto Médio: 8.15947705186076\n",
      "\n",
      "RMSE (Raiz do erro quadrático médio): 9.736060200461779\n"
     ]
    }
   ],
   "source": [
    "#Cálculo dos erros cometidos pelo modelo..\n",
    "#As métricas MAE e RMSE indicam o quão boa é a previsão, baseando-se nos erros cometidos pelo mesmo, ou seja,\n",
    "#informa o quanto os dados previstos pelo modelo se distanciaram dos dados reais.\n",
    "\n",
    "#Quanto mais os valores de erro se aproximam de 'zero', melhor..\n",
    "\n",
    "from sklearn import metrics\n",
    "print('MAE  (Erro Absoluto Médio:', metrics.mean_absolute_error(y_test, y_pred_target))\n",
    "print()\n",
    "print('RMSE (Raiz do erro quadrático médio):', np.sqrt(metrics.mean_squared_error(y_test, y_pred_target)))"
   ]
  },
  {
   "cell_type": "code",
   "execution_count": 66,
   "metadata": {},
   "outputs": [
    {
     "name": "stdout",
     "output_type": "stream",
     "text": [
      "Coeficiente de Determinação (R2): 0.9898491169638777\n"
     ]
    }
   ],
   "source": [
    "#Cálculo do coeficente R2...\n",
    "#Este coeficiente indica quão próximo estão os dados de previsão em relação aos dados reais. Assim, quanto mais\n",
    "#próximo de 1 melhor...\n",
    "\n",
    "from sklearn.metrics import r2_score\n",
    "R_2 = r2_score(y_test, y_pred_target)  \n",
    "\n",
    "print(\"Coeficiente de Determinação (R2):\", R_2)"
   ]
  },
  {
   "cell_type": "markdown",
   "metadata": {},
   "source": [
    "### A análise das métricas MAE e RMSE, juntamente com o coeficiente de determinação R2, permitem inferir que o modelo tem um bom desempenho em predizer quanto dos clientes que instalaram o aplicativo em determinado dia ainda estarão utilizando o mesmo após 15 dias."
   ]
  },
  {
   "cell_type": "code",
   "execution_count": 67,
   "metadata": {},
   "outputs": [
    {
     "name": "stderr",
     "output_type": "stream",
     "text": [
      "/home/vinicius/anaconda3/lib/python3.7/site-packages/ipykernel_launcher.py:8: SettingWithCopyWarning: \n",
      "A value is trying to be set on a copy of a slice from a DataFrame.\n",
      "Try using .loc[row_indexer,col_indexer] = value instead\n",
      "\n",
      "See the caveats in the documentation: https://pandas.pydata.org/pandas-docs/stable/user_guide/indexing.html#returning-a-view-versus-a-copy\n",
      "  \n",
      "/home/vinicius/anaconda3/lib/python3.7/site-packages/ipykernel_launcher.py:11: SettingWithCopyWarning: \n",
      "A value is trying to be set on a copy of a slice from a DataFrame.\n",
      "Try using .loc[row_indexer,col_indexer] = value instead\n",
      "\n",
      "See the caveats in the documentation: https://pandas.pydata.org/pandas-docs/stable/user_guide/indexing.html#returning-a-view-versus-a-copy\n",
      "  # This is added back by InteractiveShellApp.init_path()\n"
     ]
    }
   ],
   "source": [
    "#Criação de um novo Dataframe (df_15_30) para indicar quanto dos clientes que permanceram com o aplicativo \n",
    "#instalado por 15 dias ainda o mantém por mais 15 dias..\n",
    "\n",
    "\n",
    "df_15_30 = df_organic[['Installers retained for 15 days', 'Installers retained for 30 days']]\n",
    "\n",
    "#alocando uma nova coluna indicando a diferença entre retidos até 15 dias e 30 dias..\n",
    "df_15_30['não retidas após 15 dias'] = df_organic['Installers retained for 15 days']-df_organic['Installers retained for 30 days']\n",
    "\n",
    "#calculando o percentual de diminuição entre 15 e 30 dias\n",
    "df_15_30['percentual de queda'] = (1-(df_organic['Installers retained for 30 days']/df_organic['Installers retained for 15 days']))*100"
   ]
  },
  {
   "cell_type": "code",
   "execution_count": 68,
   "metadata": {},
   "outputs": [
    {
     "data": {
      "text/html": [
       "<div>\n",
       "<style scoped>\n",
       "    .dataframe tbody tr th:only-of-type {\n",
       "        vertical-align: middle;\n",
       "    }\n",
       "\n",
       "    .dataframe tbody tr th {\n",
       "        vertical-align: top;\n",
       "    }\n",
       "\n",
       "    .dataframe thead th {\n",
       "        text-align: right;\n",
       "    }\n",
       "</style>\n",
       "<table border=\"1\" class=\"dataframe\">\n",
       "  <thead>\n",
       "    <tr style=\"text-align: right;\">\n",
       "      <th></th>\n",
       "      <th>Installers retained for 15 days</th>\n",
       "      <th>Installers retained for 30 days</th>\n",
       "      <th>não retidas após 15 dias</th>\n",
       "      <th>percentual de queda</th>\n",
       "    </tr>\n",
       "  </thead>\n",
       "  <tbody>\n",
       "    <tr>\n",
       "      <th>0</th>\n",
       "      <td>335</td>\n",
       "      <td>330</td>\n",
       "      <td>5</td>\n",
       "      <td>1.492537</td>\n",
       "    </tr>\n",
       "    <tr>\n",
       "      <th>3</th>\n",
       "      <td>330</td>\n",
       "      <td>322</td>\n",
       "      <td>8</td>\n",
       "      <td>2.424242</td>\n",
       "    </tr>\n",
       "    <tr>\n",
       "      <th>7</th>\n",
       "      <td>348</td>\n",
       "      <td>340</td>\n",
       "      <td>8</td>\n",
       "      <td>2.298851</td>\n",
       "    </tr>\n",
       "    <tr>\n",
       "      <th>11</th>\n",
       "      <td>341</td>\n",
       "      <td>330</td>\n",
       "      <td>11</td>\n",
       "      <td>3.225806</td>\n",
       "    </tr>\n",
       "    <tr>\n",
       "      <th>15</th>\n",
       "      <td>317</td>\n",
       "      <td>303</td>\n",
       "      <td>14</td>\n",
       "      <td>4.416404</td>\n",
       "    </tr>\n",
       "  </tbody>\n",
       "</table>\n",
       "</div>"
      ],
      "text/plain": [
       "    Installers retained for 15 days  Installers retained for 30 days  \\\n",
       "0                               335                              330   \n",
       "3                               330                              322   \n",
       "7                               348                              340   \n",
       "11                              341                              330   \n",
       "15                              317                              303   \n",
       "\n",
       "    não retidas após 15 dias  percentual de queda  \n",
       "0                          5             1.492537  \n",
       "3                          8             2.424242  \n",
       "7                          8             2.298851  \n",
       "11                        11             3.225806  \n",
       "15                        14             4.416404  "
      ]
     },
     "execution_count": 68,
     "metadata": {},
     "output_type": "execute_result"
    }
   ],
   "source": [
    "df_15_30.head()"
   ]
  },
  {
   "cell_type": "code",
   "execution_count": 69,
   "metadata": {},
   "outputs": [
    {
     "name": "stdout",
     "output_type": "stream",
     "text": [
      "percentual médio de desintalações após 15 dias: \n",
      "2.79 %\n"
     ]
    }
   ],
   "source": [
    "#percentual médio de clientes que permaneceram por 15 dias, e entre 15 e 30 dias deixaram de utilizar o app...\n",
    "\n",
    "print('percentual médio de desintalações após 15 dias: ')\n",
    "print(round((sum(df_15_30['percentual de queda']))/len(df_15_30),2),'%')"
   ]
  },
  {
   "cell_type": "markdown",
   "metadata": {},
   "source": [
    "### O cálculo do percentual médio de desinstalações após 15 dias, permite inferir que menos de 3% dos usuários que instalaram o aplicativo, e permaneceram com o mesmo durante 15 dias, desinstalarão após este período.\n",
    "\n",
    "### Desta forma, com este modelo é possível se prever quanto dos usuários que instalaram o aplicativo em determinado dia permanecerão com o mesmo instalado por 15 dias. Além disso, desta quantidade, em torno de 97% permanecerão com a aplicativo instalado até o trigésimo dia."
   ]
  },
  {
   "cell_type": "code",
   "execution_count": null,
   "metadata": {},
   "outputs": [],
   "source": []
  }
 ],
 "metadata": {
  "kernelspec": {
   "display_name": "Python 3",
   "language": "python",
   "name": "python3"
  },
  "language_info": {
   "codemirror_mode": {
    "name": "ipython",
    "version": 3
   },
   "file_extension": ".py",
   "mimetype": "text/x-python",
   "name": "python",
   "nbconvert_exporter": "python",
   "pygments_lexer": "ipython3",
   "version": "3.7.3"
  }
 },
 "nbformat": 4,
 "nbformat_minor": 2
}
