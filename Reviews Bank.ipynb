{
 "cells": [
  {
   "cell_type": "code",
   "execution_count": 29,
   "metadata": {},
   "outputs": [],
   "source": [
    "import pandas as pd\n",
    "import numpy as np\n",
    "import matplotlib.pyplot as plt\n",
    "import seaborn as sns"
   ]
  },
  {
   "cell_type": "code",
   "execution_count": 30,
   "metadata": {},
   "outputs": [],
   "source": [
    "df = pd.read_csv('Reviews_Bank.csv')"
   ]
  },
  {
   "cell_type": "code",
   "execution_count": 31,
   "metadata": {},
   "outputs": [
    {
     "data": {
      "text/html": [
       "<div>\n",
       "<style scoped>\n",
       "    .dataframe tbody tr th:only-of-type {\n",
       "        vertical-align: middle;\n",
       "    }\n",
       "\n",
       "    .dataframe tbody tr th {\n",
       "        vertical-align: top;\n",
       "    }\n",
       "\n",
       "    .dataframe thead th {\n",
       "        text-align: right;\n",
       "    }\n",
       "</style>\n",
       "<table border=\"1\" class=\"dataframe\">\n",
       "  <thead>\n",
       "    <tr style=\"text-align: right;\">\n",
       "      <th></th>\n",
       "      <th>Package Name</th>\n",
       "      <th>App Version Name</th>\n",
       "      <th>Reviewer Language</th>\n",
       "      <th>Device</th>\n",
       "      <th>Review Last Update Date and Time</th>\n",
       "      <th>Star Rating</th>\n",
       "      <th>Review Title</th>\n",
       "      <th>Review Text</th>\n",
       "      <th>Sentiment</th>\n",
       "    </tr>\n",
       "  </thead>\n",
       "  <tbody>\n",
       "    <tr>\n",
       "      <th>0</th>\n",
       "      <td>B4 Bank</td>\n",
       "      <td>6.10.6</td>\n",
       "      <td>pt</td>\n",
       "      <td>greatlte</td>\n",
       "      <td>2019-10-01T00:09:07Z</td>\n",
       "      <td>5</td>\n",
       "      <td>NaN</td>\n",
       "      <td>NaN</td>\n",
       "      <td>Positive</td>\n",
       "    </tr>\n",
       "    <tr>\n",
       "      <th>1</th>\n",
       "      <td>B4 Bank</td>\n",
       "      <td>6.10.6</td>\n",
       "      <td>pt</td>\n",
       "      <td>mido</td>\n",
       "      <td>2019-10-01T00:18:49Z</td>\n",
       "      <td>5</td>\n",
       "      <td>NaN</td>\n",
       "      <td>NaN</td>\n",
       "      <td>Positive</td>\n",
       "    </tr>\n",
       "    <tr>\n",
       "      <th>2</th>\n",
       "      <td>B4 Bank</td>\n",
       "      <td>6.10.6</td>\n",
       "      <td>pt</td>\n",
       "      <td>on5xelte</td>\n",
       "      <td>2019-10-01T00:34:35Z</td>\n",
       "      <td>5</td>\n",
       "      <td>NaN</td>\n",
       "      <td>Boa</td>\n",
       "      <td>Positive</td>\n",
       "    </tr>\n",
       "    <tr>\n",
       "      <th>3</th>\n",
       "      <td>B4 Bank</td>\n",
       "      <td>6.10.6</td>\n",
       "      <td>pt</td>\n",
       "      <td>dreamlte</td>\n",
       "      <td>2019-10-01T00:44:18Z</td>\n",
       "      <td>2</td>\n",
       "      <td>NaN</td>\n",
       "      <td>Não consigo gerar a fatura em PDF, no mesmo fo...</td>\n",
       "      <td>Negative</td>\n",
       "    </tr>\n",
       "    <tr>\n",
       "      <th>4</th>\n",
       "      <td>B4 Bank</td>\n",
       "      <td>6.10.6</td>\n",
       "      <td>pt</td>\n",
       "      <td>starqltechn</td>\n",
       "      <td>2019-10-01T01:09:56Z</td>\n",
       "      <td>4</td>\n",
       "      <td>NaN</td>\n",
       "      <td>NaN</td>\n",
       "      <td>Positive</td>\n",
       "    </tr>\n",
       "  </tbody>\n",
       "</table>\n",
       "</div>"
      ],
      "text/plain": [
       "  Package Name App Version Name Reviewer Language       Device  \\\n",
       "0      B4 Bank           6.10.6                pt     greatlte   \n",
       "1      B4 Bank           6.10.6                pt         mido   \n",
       "2      B4 Bank           6.10.6                pt     on5xelte   \n",
       "3      B4 Bank           6.10.6                pt     dreamlte   \n",
       "4      B4 Bank           6.10.6                pt  starqltechn   \n",
       "\n",
       "  Review Last Update Date and Time  Star Rating Review Title  \\\n",
       "0             2019-10-01T00:09:07Z            5          NaN   \n",
       "1             2019-10-01T00:18:49Z            5          NaN   \n",
       "2             2019-10-01T00:34:35Z            5          NaN   \n",
       "3             2019-10-01T00:44:18Z            2          NaN   \n",
       "4             2019-10-01T01:09:56Z            4          NaN   \n",
       "\n",
       "                                         Review Text Sentiment  \n",
       "0                                                NaN  Positive  \n",
       "1                                                NaN  Positive  \n",
       "2                                                Boa  Positive  \n",
       "3  Não consigo gerar a fatura em PDF, no mesmo fo...  Negative  \n",
       "4                                                NaN  Positive  "
      ]
     },
     "execution_count": 31,
     "metadata": {},
     "output_type": "execute_result"
    }
   ],
   "source": [
    "df.head()"
   ]
  },
  {
   "cell_type": "markdown",
   "metadata": {},
   "source": [
    "### Os gráficos a seguir demonstram tanto em percentual quanto em valores absolutos o sentimento dos usuários (Positive, Neutral, Negative) em relação ao aplicativo.\n"
   ]
  },
  {
   "cell_type": "code",
   "execution_count": 32,
   "metadata": {},
   "outputs": [
    {
     "data": {
      "image/png": "[encoded data removed]",
      "text/plain": [
       "<Figure size 864x432 with 2 Axes>"
      ]
     },
     "metadata": {
      "needs_background": "light"
     },
     "output_type": "display_data"
    }
   ],
   "source": [
    "fig, ax = plt.subplots(1,2, figsize=(12,6))\n",
    "plt.tight_layout()  # evita a sobreposição dos gráficos\n",
    "plt.subplots_adjust(left=None, bottom=None, right=None, top= 0.8, wspace=0.3 , hspace=0.3)\n",
    "g0 = df.Sentiment.value_counts().plot(kind='pie', autopct='%.2f%%',ax=ax[0])\n",
    "g1 = sns.countplot(x=\"Sentiment\", data=df,ax=ax[1])\n",
    "plt.show()"
   ]
  },
  {
   "cell_type": "markdown",
   "metadata": {},
   "source": [
    "### A análise dos gráficos permite inferir que, quando há uma avaliação por parte do usuário, há uma forte predominância em avaliar positivamente o aplicativo."
   ]
  },
  {
   "cell_type": "markdown",
   "metadata": {},
   "source": [
    "### Essa forte avaliação positiva também pode ser confirmada a partir da análise da avaliação quantitativa (avaliação por estrelas --> \"Star Rating\"), onde a maior parte dos usuários forneceu nota máxima (5 estrelas) para o aplicativo, como pode ser visto no gráfico a seguir."
   ]
  },
  {
   "cell_type": "code",
   "execution_count": 33,
   "metadata": {},
   "outputs": [
    {
     "data": {
      "text/plain": [
       "<matplotlib.axes._subplots.AxesSubplot at 0x7f92cb7c2a58>"
      ]
     },
     "execution_count": 33,
     "metadata": {},
     "output_type": "execute_result"
    },
    {
     "data": {
      "image/png": "[encoded data removed]",
      "text/plain": [
       "<Figure size 864x432 with 1 Axes>"
      ]
     },
     "metadata": {
      "needs_background": "light"
     },
     "output_type": "display_data"
    }
   ],
   "source": [
    "plt.figure(figsize=(12,6))\n",
    "sns.countplot(df['Star Rating'])"
   ]
  },
  {
   "cell_type": "code",
   "execution_count": 34,
   "metadata": {},
   "outputs": [
    {
     "name": "stdout",
     "output_type": "stream",
     "text": [
      "Percentual de avaliações com nota máxima sobre o total de avaliações: \n",
      "69.8 %\n",
      "\n",
      "\n",
      "Média das avaliações: \n",
      "4.4  estrelas\n"
     ]
    }
   ],
   "source": [
    "#Cálculo do percentual de avaliações com nota máxima sobre o total de avaliações \n",
    "print(\"Percentual de avaliações com nota máxima sobre o total de avaliações: \")\n",
    "print(round((len(df.loc[df['Star Rating']==5])/len(df['Star Rating'])*100),1),\"%\")\n",
    "print('\\n')\n",
    "\n",
    "#Cálculo da média das avaliações\n",
    "print('Média das avaliações: ')\n",
    "print(round(df['Star Rating'].mean(),1), ' estrelas')"
   ]
  },
  {
   "cell_type": "markdown",
   "metadata": {},
   "source": [
    "### Do total de avaliações, aproximadamente 70% são de avaliações com nota máxima (5 estrelas), com uma avaliação média de 4,4.\n",
    "\n",
    "### Estas avaliações corroboram com a afirmação anterior de que há uma predominância de um sentimento positivo em relação ao aplicativo.\n"
   ]
  },
  {
   "cell_type": "code",
   "execution_count": null,
   "metadata": {},
   "outputs": [],
   "source": []
  }
 ],
 "metadata": {
  "kernelspec": {
   "display_name": "Python 3",
   "language": "python",
   "name": "python3"
  },
  "language_info": {
   "codemirror_mode": {
    "name": "ipython",
    "version": 3
   },
   "file_extension": ".py",
   "mimetype": "text/x-python",
   "name": "python",
   "nbconvert_exporter": "python",
   "pygments_lexer": "ipython3",
   "version": "3.7.3"
  }
 },
 "nbformat": 4,
 "nbformat_minor": 2
}
